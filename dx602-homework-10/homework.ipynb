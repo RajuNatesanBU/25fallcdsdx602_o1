{
 "cells": [
  {
   "cell_type": "markdown",
   "metadata": {},
   "source": [
    "# DX 602 Week 10 Homework"
   ]
  },
  {
   "cell_type": "markdown",
   "metadata": {},
   "source": [
    "## Introduction\n",
    "\n",
    "In this homework, you will practice exploratory analysis using Pandas, and review previous material in this module.\n",
    "\n",
    "The first ten problems of this homework will be manually graded due to their visual nature.\n",
    "The remaining problems will be graded automatically like usual."
   ]
  },
  {
   "cell_type": "markdown",
   "metadata": {},
   "source": [
    "## Example Code\n",
    "\n",
    "You may find it helpful to refer to this GitHub repository of Jupyter notebooks for example code.\n",
    "\n",
    "* https://github.com/bu-cds-omds/dx602-examples\n",
    "\n",
    "Any calculations demonstrated in code examples or videos may be found in these notebooks, and you are allowed to copy this example code in your homework answers."
   ]
  },
  {
   "cell_type": "markdown",
   "metadata": {},
   "source": [
    "## Shared Imports\n",
    "\n",
    "Do not install or use any additional modules.\n",
    "Installing additional modules may result in an autograder failure resulting in zero points for some or all problems."
   ]
  },
  {
   "cell_type": "code",
   "execution_count": 29,
   "metadata": {},
   "outputs": [],
   "source": [
    "import math\n",
    "import sys"
   ]
  },
  {
   "cell_type": "code",
   "execution_count": 30,
   "metadata": {},
   "outputs": [],
   "source": [
    "import matplotlib.pyplot as plt\n",
    "import numpy as np\n",
    "import pandas as pd"
   ]
  },
  {
   "cell_type": "markdown",
   "metadata": {},
   "source": [
    "## Shared Data"
   ]
  },
  {
   "cell_type": "markdown",
   "metadata": {},
   "source": [
    "The following red wine data set is from the paper [\"Modeling wine preferences by data mining from physicochemical properties\"](https://repositorium.sdum.uminho.pt/bitstream/1822/10029/1/wine5.pdf)."
   ]
  },
  {
   "cell_type": "code",
   "execution_count": 31,
   "metadata": {},
   "outputs": [
    {
     "data": {
      "text/html": [
       "<div>\n",
       "<style scoped>\n",
       "    .dataframe tbody tr th:only-of-type {\n",
       "        vertical-align: middle;\n",
       "    }\n",
       "\n",
       "    .dataframe tbody tr th {\n",
       "        vertical-align: top;\n",
       "    }\n",
       "\n",
       "    .dataframe thead th {\n",
       "        text-align: right;\n",
       "    }\n",
       "</style>\n",
       "<table border=\"1\" class=\"dataframe\">\n",
       "  <thead>\n",
       "    <tr style=\"text-align: right;\">\n",
       "      <th></th>\n",
       "      <th>fixed acidity</th>\n",
       "      <th>volatile acidity</th>\n",
       "      <th>citric acid</th>\n",
       "      <th>residual sugar</th>\n",
       "      <th>chlorides</th>\n",
       "      <th>free sulfur dioxide</th>\n",
       "      <th>total sulfur dioxide</th>\n",
       "      <th>density</th>\n",
       "      <th>pH</th>\n",
       "      <th>sulphates</th>\n",
       "      <th>alcohol</th>\n",
       "      <th>target</th>\n",
       "    </tr>\n",
       "  </thead>\n",
       "  <tbody>\n",
       "    <tr>\n",
       "      <th>0</th>\n",
       "      <td>7.4</td>\n",
       "      <td>0.70</td>\n",
       "      <td>0.00</td>\n",
       "      <td>1.9</td>\n",
       "      <td>0.076</td>\n",
       "      <td>11.0</td>\n",
       "      <td>34.0</td>\n",
       "      <td>0.9978</td>\n",
       "      <td>3.51</td>\n",
       "      <td>0.56</td>\n",
       "      <td>9.4</td>\n",
       "      <td>5</td>\n",
       "    </tr>\n",
       "    <tr>\n",
       "      <th>1</th>\n",
       "      <td>7.8</td>\n",
       "      <td>0.88</td>\n",
       "      <td>0.00</td>\n",
       "      <td>2.6</td>\n",
       "      <td>0.098</td>\n",
       "      <td>25.0</td>\n",
       "      <td>67.0</td>\n",
       "      <td>0.9968</td>\n",
       "      <td>3.20</td>\n",
       "      <td>0.68</td>\n",
       "      <td>9.8</td>\n",
       "      <td>5</td>\n",
       "    </tr>\n",
       "    <tr>\n",
       "      <th>2</th>\n",
       "      <td>7.8</td>\n",
       "      <td>0.76</td>\n",
       "      <td>0.04</td>\n",
       "      <td>2.3</td>\n",
       "      <td>0.092</td>\n",
       "      <td>15.0</td>\n",
       "      <td>54.0</td>\n",
       "      <td>0.9970</td>\n",
       "      <td>3.26</td>\n",
       "      <td>0.65</td>\n",
       "      <td>9.8</td>\n",
       "      <td>5</td>\n",
       "    </tr>\n",
       "    <tr>\n",
       "      <th>3</th>\n",
       "      <td>11.2</td>\n",
       "      <td>0.28</td>\n",
       "      <td>0.56</td>\n",
       "      <td>1.9</td>\n",
       "      <td>0.075</td>\n",
       "      <td>17.0</td>\n",
       "      <td>60.0</td>\n",
       "      <td>0.9980</td>\n",
       "      <td>3.16</td>\n",
       "      <td>0.58</td>\n",
       "      <td>9.8</td>\n",
       "      <td>6</td>\n",
       "    </tr>\n",
       "    <tr>\n",
       "      <th>4</th>\n",
       "      <td>7.4</td>\n",
       "      <td>0.70</td>\n",
       "      <td>0.00</td>\n",
       "      <td>1.9</td>\n",
       "      <td>0.076</td>\n",
       "      <td>11.0</td>\n",
       "      <td>34.0</td>\n",
       "      <td>0.9978</td>\n",
       "      <td>3.51</td>\n",
       "      <td>0.56</td>\n",
       "      <td>9.4</td>\n",
       "      <td>5</td>\n",
       "    </tr>\n",
       "  </tbody>\n",
       "</table>\n",
       "</div>"
      ],
      "text/plain": [
       "   fixed acidity  volatile acidity  citric acid  residual sugar  chlorides  \\\n",
       "0            7.4              0.70         0.00             1.9      0.076   \n",
       "1            7.8              0.88         0.00             2.6      0.098   \n",
       "2            7.8              0.76         0.04             2.3      0.092   \n",
       "3           11.2              0.28         0.56             1.9      0.075   \n",
       "4            7.4              0.70         0.00             1.9      0.076   \n",
       "\n",
       "   free sulfur dioxide  total sulfur dioxide  density    pH  sulphates  \\\n",
       "0                 11.0                  34.0   0.9978  3.51       0.56   \n",
       "1                 25.0                  67.0   0.9968  3.20       0.68   \n",
       "2                 15.0                  54.0   0.9970  3.26       0.65   \n",
       "3                 17.0                  60.0   0.9980  3.16       0.58   \n",
       "4                 11.0                  34.0   0.9978  3.51       0.56   \n",
       "\n",
       "   alcohol  target  \n",
       "0      9.4       5  \n",
       "1      9.8       5  \n",
       "2      9.8       5  \n",
       "3      9.8       6  \n",
       "4      9.4       5  "
      ]
     },
     "execution_count": 31,
     "metadata": {},
     "output_type": "execute_result"
    }
   ],
   "source": [
    "red_wine = pd.read_csv(\"https://github.com/EpistasisLab/pmlb/raw/refs/heads/master/datasets/wine_quality_red/wine_quality_red.tsv.gz\", sep=\"\\t\")\n",
    "red_wine.head()"
   ]
  },
  {
   "cell_type": "markdown",
   "metadata": {},
   "source": [
    "## Problems"
   ]
  },
  {
   "cell_type": "markdown",
   "metadata": {},
   "source": [
    "### Problem 1 (manually graded)\n",
    "\n",
    "Plot histograms of every column of the red wine data set in the `red_wine` variable above.\n",
    "Make sure to adjust the spacing for legibility so that the labels do not overlap the charts."
   ]
  },
  {
   "cell_type": "code",
   "execution_count": 32,
   "metadata": {},
   "outputs": [
    {
     "data": {
      "text/plain": [
       "Ellipsis"
      ]
     },
     "execution_count": 32,
     "metadata": {},
     "output_type": "execute_result"
    }
   ],
   "source": [
    "# YOUR CHANGES HERE\n",
    "\n",
    "..."
   ]
  },
  {
   "cell_type": "markdown",
   "metadata": {},
   "source": [
    "<div style=\"page-break-after: always;\"></div>"
   ]
  },
  {
   "cell_type": "markdown",
   "metadata": {},
   "source": [
    "### Problem 2 (manually graded)\n",
    "\n",
    "Plot a scatter plot of the fixed acidity and citric acid columns of the red wine data set in the `red_wine` variable above.\n",
    "Make sure that both axes are labeled."
   ]
  },
  {
   "cell_type": "code",
   "execution_count": 33,
   "metadata": {},
   "outputs": [
    {
     "data": {
      "text/plain": [
       "Ellipsis"
      ]
     },
     "execution_count": 33,
     "metadata": {},
     "output_type": "execute_result"
    }
   ],
   "source": [
    "# YOUR CHANGES HERE\n",
    "\n",
    "..."
   ]
  },
  {
   "cell_type": "markdown",
   "metadata": {},
   "source": [
    "<div style=\"page-break-after: always;\"></div>"
   ]
  },
  {
   "cell_type": "markdown",
   "metadata": {},
   "source": [
    "### Problem 3 (manually graded)\n",
    "\n",
    "Repeat the scatter plot of the fixed acidity and citric acid columns of the red wine data set.\n",
    "This time, make the y axis start from zero."
   ]
  },
  {
   "cell_type": "code",
   "execution_count": 34,
   "metadata": {},
   "outputs": [
    {
     "data": {
      "text/plain": [
       "Ellipsis"
      ]
     },
     "execution_count": 34,
     "metadata": {},
     "output_type": "execute_result"
    }
   ],
   "source": [
    "# YOUR CHANGES HERE\n",
    "\n",
    "..."
   ]
  },
  {
   "cell_type": "markdown",
   "metadata": {},
   "source": [
    "<div style=\"page-break-after: always;\"></div>"
   ]
  },
  {
   "cell_type": "markdown",
   "metadata": {},
   "source": [
    "### Problem 4 (manually graded)\n",
    "\n",
    "Plot a histogram of the `target` column of the red wine data set.\n",
    "(This column was supposed to represent the quality of the wine.)"
   ]
  },
  {
   "cell_type": "code",
   "execution_count": 35,
   "metadata": {},
   "outputs": [
    {
     "data": {
      "text/plain": [
       "Ellipsis"
      ]
     },
     "execution_count": 35,
     "metadata": {},
     "output_type": "execute_result"
    }
   ],
   "source": [
    "# YOUR CHANGES HERE\n",
    "\n",
    "..."
   ]
  },
  {
   "cell_type": "markdown",
   "metadata": {},
   "source": [
    "<div style=\"page-break-after: always;\"></div>"
   ]
  },
  {
   "cell_type": "markdown",
   "metadata": {},
   "source": [
    "### Problem 5 (manually graded)\n",
    "\n",
    "In the video \"Using Subplots with Pandas\", the following chart plotted the average of each input column as a function of the abalone target column \"Rings\".\n",
    "Reproduce that chart with the red wine data set using its target column instead.\n",
    "\n",
    "![](data:image/png;base64,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)"
   ]
  },
  {
   "cell_type": "code",
   "execution_count": 36,
   "metadata": {},
   "outputs": [
    {
     "data": {
      "text/plain": [
       "Ellipsis"
      ]
     },
     "execution_count": 36,
     "metadata": {},
     "output_type": "execute_result"
    }
   ],
   "source": [
    "# YOUR CHANGES HERE\n",
    "\n",
    "..."
   ]
  },
  {
   "cell_type": "markdown",
   "metadata": {},
   "source": [
    "<div style=\"page-break-after: always;\"></div>"
   ]
  },
  {
   "cell_type": "markdown",
   "metadata": {},
   "source": [
    "### Problem 6 (manually graded)\n",
    "\n",
    "Plot the correlation matrix of the red wine data set as a heat map."
   ]
  },
  {
   "cell_type": "markdown",
   "metadata": {},
   "source": [
    "Hint: this visualization was performed for the Palmer penguins data set in the video \"Quick Visualizations pf the Palmer Penguins."
   ]
  },
  {
   "cell_type": "code",
   "execution_count": 37,
   "metadata": {},
   "outputs": [
    {
     "data": {
      "text/plain": [
       "Ellipsis"
      ]
     },
     "execution_count": 37,
     "metadata": {},
     "output_type": "execute_result"
    }
   ],
   "source": [
    "# YOUR CHANGES HERE\n",
    "\n",
    "..."
   ]
  },
  {
   "cell_type": "markdown",
   "metadata": {},
   "source": [
    "<div style=\"page-break-after: always;\"></div>"
   ]
  },
  {
   "cell_type": "markdown",
   "metadata": {},
   "source": [
    "### Problem 7 (manually graded)\n",
    "\n",
    "Plot a box plot of the alcohol column grouping the data by the target column."
   ]
  },
  {
   "cell_type": "code",
   "execution_count": 38,
   "metadata": {},
   "outputs": [
    {
     "data": {
      "text/plain": [
       "Ellipsis"
      ]
     },
     "execution_count": 38,
     "metadata": {},
     "output_type": "execute_result"
    }
   ],
   "source": [
    "# YOUR CHANGES HERE\n",
    "\n",
    "..."
   ]
  },
  {
   "cell_type": "markdown",
   "metadata": {},
   "source": [
    "<div style=\"page-break-after: always;\"></div>"
   ]
  },
  {
   "cell_type": "markdown",
   "metadata": {},
   "source": [
    "### Problem 8 (manually graded)\n",
    "\n",
    "Hexagonal bin plots are an alternative to scatter plots that helps visualize density instead of individual points.\n",
    "Make a hexagonal bin plot of the residual sugar and alcohol in the red wine data set."
   ]
  },
  {
   "cell_type": "markdown",
   "metadata": {},
   "source": [
    "Hint: pandas has built-in support for hexagonal bin plots.\n",
    "The default grid size that pandas uses is fairly small, so you may want to adjust it to your taste."
   ]
  },
  {
   "cell_type": "code",
   "execution_count": 39,
   "metadata": {},
   "outputs": [
    {
     "data": {
      "text/plain": [
       "Ellipsis"
      ]
     },
     "execution_count": 39,
     "metadata": {},
     "output_type": "execute_result"
    }
   ],
   "source": [
    "# YOUR CHANGES HERE\n",
    "\n",
    "..."
   ]
  },
  {
   "cell_type": "markdown",
   "metadata": {},
   "source": [
    "<div style=\"page-break-after: always;\"></div>"
   ]
  },
  {
   "cell_type": "markdown",
   "metadata": {},
   "source": [
    "### Problem 9 (manually graded)\n",
    "\n",
    "Make a scatter plot of the red wine data set's target column and each of the other columns in that data set. \n",
    "Make one chart for each of the other columns."
   ]
  },
  {
   "cell_type": "code",
   "execution_count": 40,
   "metadata": {},
   "outputs": [
    {
     "data": {
      "text/plain": [
       "Ellipsis"
      ]
     },
     "execution_count": 40,
     "metadata": {},
     "output_type": "execute_result"
    }
   ],
   "source": [
    "# YOUR CHANGES HERE\n",
    "\n",
    "..."
   ]
  },
  {
   "cell_type": "markdown",
   "metadata": {},
   "source": [
    "<div style=\"page-break-after: always;\"></div>"
   ]
  },
  {
   "cell_type": "markdown",
   "metadata": {},
   "source": [
    "### Problem 10 (manually graded)\n",
    "\n",
    "Pick a pair of input columns in the red wine data set that looks interesting when colored by the target column.\n",
    "By interesting, the target values (colors) should be visibly different for some combination of your chosen input columns."
   ]
  },
  {
   "cell_type": "markdown",
   "metadata": {},
   "source": [
    "Hint: use scatter matrix to investigate possible columns, but don't leave it in your notebook as it will make the autograder very slow."
   ]
  },
  {
   "cell_type": "code",
   "execution_count": 41,
   "metadata": {},
   "outputs": [
    {
     "data": {
      "text/plain": [
       "Ellipsis"
      ]
     },
     "execution_count": 41,
     "metadata": {},
     "output_type": "execute_result"
    }
   ],
   "source": [
    "# YOUR CHANGES HERE\n",
    "\n",
    "..."
   ]
  },
  {
   "cell_type": "markdown",
   "metadata": {},
   "source": [
    "<div style=\"page-break-after: always;\"></div>"
   ]
  },
  {
   "cell_type": "markdown",
   "metadata": {},
   "source": [
    "### Problem 11 (automatically graded)\n",
    "\n",
    "Set `p11` to the value of $(3 + \\mathrm{sin}(2))^5$."
   ]
  },
  {
   "cell_type": "code",
   "execution_count": 42,
   "metadata": {},
   "outputs": [],
   "source": [
    "# YOUR CHANGES HERE\n",
    "\n",
    "p11 = ..."
   ]
  },
  {
   "cell_type": "code",
   "execution_count": 43,
   "metadata": {},
   "outputs": [
    {
     "data": {
      "text/plain": [
       "Ellipsis"
      ]
     },
     "execution_count": 43,
     "metadata": {},
     "output_type": "execute_result"
    }
   ],
   "source": [
    "p11"
   ]
  },
  {
   "cell_type": "markdown",
   "metadata": {},
   "source": [
    "### Problem 12 (automatically graded)\n",
    "\n",
    "Write a function `p12` that takes in a sequence of strings and returns a list of the strings starting with the prefix \"input_\".\n",
    "The list should be in the same order as the input sequence."
   ]
  },
  {
   "cell_type": "code",
   "execution_count": 44,
   "metadata": {},
   "outputs": [],
   "source": [
    "# YOUR CHANGES HERE\n",
    "\n",
    "def p12(column_names):\n",
    "    ..."
   ]
  },
  {
   "cell_type": "code",
   "execution_count": 45,
   "metadata": {},
   "outputs": [],
   "source": [
    "# should return [\"input_0\", \"input_1\"]\n",
    "p12([\"input_0\", \"input_1\", \"target\"])"
   ]
  },
  {
   "cell_type": "markdown",
   "metadata": {},
   "source": [
    "### Problem 13 (automatically graded)\n",
    "\n",
    "Sort the list `p13` so that the tuples are sorted in order of their second entry (the strings)."
   ]
  },
  {
   "cell_type": "code",
   "execution_count": 46,
   "metadata": {},
   "outputs": [],
   "source": [
    "# DO NOT CHANGE\n",
    "\n",
    "p13 = [(0, \"zebra\"), (1, \"yellow\"), (2, \"xylophone\"), (3, \"dog\"), (4, \"elephant\"), (5, \"apple\")]"
   ]
  },
  {
   "cell_type": "code",
   "execution_count": 47,
   "metadata": {},
   "outputs": [
    {
     "data": {
      "text/plain": [
       "Ellipsis"
      ]
     },
     "execution_count": 47,
     "metadata": {},
     "output_type": "execute_result"
    }
   ],
   "source": [
    "# YOUR CHANGES HERE\n",
    "\n",
    "..."
   ]
  },
  {
   "cell_type": "markdown",
   "metadata": {},
   "source": [
    "### Problem 14 (automatically graded)\n",
    "\n",
    "Set `p14` to be a string with the value of the mathematical constant $\\pi$ showing exactly 8 digits after the decimal point (include zeros as necessary).\n",
    "For your convenience, `q14` has a copy of $\\pi$."
   ]
  },
  {
   "cell_type": "code",
   "execution_count": 56,
   "metadata": {},
   "outputs": [
    {
     "data": {
      "text/plain": [
       "3.141592653589793"
      ]
     },
     "execution_count": 56,
     "metadata": {},
     "output_type": "execute_result"
    }
   ],
   "source": [
    "# DO NOT CHANGE\n",
    "\n",
    "q14 = math.pi\n",
    "q14"
   ]
  },
  {
   "cell_type": "code",
   "execution_count": 57,
   "metadata": {},
   "outputs": [],
   "source": [
    "# YOUR CHANGES HERE\n",
    "\n",
    "p14 = ..."
   ]
  },
  {
   "cell_type": "markdown",
   "metadata": {},
   "source": [
    "### Problem 15 (automatically graded)\n",
    "\n",
    "Plot the data in variables `x15` and `y15` as a line chart and save it to the file `p15.png`."
   ]
  },
  {
   "cell_type": "code",
   "execution_count": 93,
   "metadata": {},
   "outputs": [],
   "source": [
    "# DO NOT CHANGE\n",
    "\n",
    "x15 = np.linspace(-10, 10)\n",
    "y15 = x15 ** 2 - 2 * x15 + 1"
   ]
  },
  {
   "cell_type": "code",
   "execution_count": 50,
   "metadata": {},
   "outputs": [
    {
     "data": {
      "text/plain": [
       "Ellipsis"
      ]
     },
     "execution_count": 50,
     "metadata": {},
     "output_type": "execute_result"
    }
   ],
   "source": [
    "# YOUR CHANGES HERE\n",
    "\n",
    "..."
   ]
  },
  {
   "cell_type": "markdown",
   "metadata": {},
   "source": [
    "### Problem 16 (automatically graded)\n",
    "\n",
    "Set `p16` to be a $253 \\times 512$ NumPy array filled entirely with the number 42."
   ]
  },
  {
   "cell_type": "code",
   "execution_count": 51,
   "metadata": {},
   "outputs": [
    {
     "data": {
      "text/plain": [
       "Ellipsis"
      ]
     },
     "execution_count": 51,
     "metadata": {},
     "output_type": "execute_result"
    }
   ],
   "source": [
    "# YOUR CHANGES HERE\n",
    "\n",
    "..."
   ]
  },
  {
   "cell_type": "markdown",
   "metadata": {},
   "source": [
    "### Problem 17 (automatically graded)\n",
    "\n",
    "Set `p17` to be a view of array `q17` that has size $1000000 \\times 3$ where each row is a copy of `q17`."
   ]
  },
  {
   "cell_type": "markdown",
   "metadata": {},
   "source": [
    "Hint: use broadcasting."
   ]
  },
  {
   "cell_type": "code",
   "execution_count": null,
   "metadata": {},
   "outputs": [
    {
     "data": {
      "text/plain": [
       "array([1, 3, 5])"
      ]
     },
     "execution_count": 59,
     "metadata": {},
     "output_type": "execute_result"
    }
   ],
   "source": [
    "# DO NOT CHANGE\n",
    "\n",
    "q17 = np.array([1, 3, 5])\n",
    "q17"
   ]
  },
  {
   "cell_type": "code",
   "execution_count": null,
   "metadata": {},
   "outputs": [
    {
     "data": {
      "text/plain": [
       "Ellipsis"
      ]
     },
     "execution_count": 52,
     "metadata": {},
     "output_type": "execute_result"
    }
   ],
   "source": [
    "# YOUR CHANGES HERE\n",
    "\n",
    "p17 = ..."
   ]
  },
  {
   "cell_type": "code",
   "execution_count": null,
   "metadata": {},
   "outputs": [],
   "source": [
    "p17"
   ]
  },
  {
   "cell_type": "markdown",
   "metadata": {},
   "source": [
    "### Problem 18 (automatically graded)\n",
    "\n",
    "Set `p18` to be a Pandas series with the mean of each column of the red wine data set.\n",
    "The index of `p18` should be the column names of the red wine data set."
   ]
  },
  {
   "cell_type": "code",
   "execution_count": null,
   "metadata": {},
   "outputs": [
    {
     "data": {
      "text/plain": [
       "Ellipsis"
      ]
     },
     "execution_count": 53,
     "metadata": {},
     "output_type": "execute_result"
    }
   ],
   "source": [
    "# YOUR CHANGES HERE\n",
    "\n",
    "p18 = ..."
   ]
  },
  {
   "cell_type": "code",
   "execution_count": null,
   "metadata": {},
   "outputs": [],
   "source": [
    "p18"
   ]
  },
  {
   "cell_type": "markdown",
   "metadata": {},
   "source": [
    "### Problem 19 (automatically graded)\n",
    "\n",
    "The data frame in `q19` contains the first names of actors and their hometowns.\n",
    "Set `p19` to be a data frame of pairs of actors with the same hometown.\n",
    "`p19` should have two columns, `name_1` and `name_2` and the value in `name_1` should before the value in `name_2` to avoid matching an actor with themselves and repeating a pair with both orders."
   ]
  },
  {
   "cell_type": "code",
   "execution_count": 67,
   "metadata": {},
   "outputs": [
    {
     "data": {
      "text/html": [
       "<div>\n",
       "<style scoped>\n",
       "    .dataframe tbody tr th:only-of-type {\n",
       "        vertical-align: middle;\n",
       "    }\n",
       "\n",
       "    .dataframe tbody tr th {\n",
       "        vertical-align: top;\n",
       "    }\n",
       "\n",
       "    .dataframe thead th {\n",
       "        text-align: right;\n",
       "    }\n",
       "</style>\n",
       "<table border=\"1\" class=\"dataframe\">\n",
       "  <thead>\n",
       "    <tr style=\"text-align: right;\">\n",
       "      <th></th>\n",
       "      <th>name</th>\n",
       "      <th>hometown</th>\n",
       "    </tr>\n",
       "  </thead>\n",
       "  <tbody>\n",
       "    <tr>\n",
       "      <th>0</th>\n",
       "      <td>Mel</td>\n",
       "      <td>Peekskill</td>\n",
       "    </tr>\n",
       "    <tr>\n",
       "      <th>1</th>\n",
       "      <td>John</td>\n",
       "      <td>Newton</td>\n",
       "    </tr>\n",
       "    <tr>\n",
       "      <th>2</th>\n",
       "      <td>Tom</td>\n",
       "      <td>Concord</td>\n",
       "    </tr>\n",
       "    <tr>\n",
       "      <th>3</th>\n",
       "      <td>Benjamin</td>\n",
       "      <td>Newton</td>\n",
       "    </tr>\n",
       "    <tr>\n",
       "      <th>4</th>\n",
       "      <td>Michael</td>\n",
       "      <td>Newton</td>\n",
       "    </tr>\n",
       "    <tr>\n",
       "      <th>5</th>\n",
       "      <td>Emily</td>\n",
       "      <td>London</td>\n",
       "    </tr>\n",
       "    <tr>\n",
       "      <th>6</th>\n",
       "      <td>Tom</td>\n",
       "      <td>London</td>\n",
       "    </tr>\n",
       "  </tbody>\n",
       "</table>\n",
       "</div>"
      ],
      "text/plain": [
       "       name   hometown\n",
       "0       Mel  Peekskill\n",
       "1      John     Newton\n",
       "2       Tom    Concord\n",
       "3  Benjamin     Newton\n",
       "4   Michael     Newton\n",
       "5     Emily     London\n",
       "6       Tom     London"
      ]
     },
     "execution_count": 67,
     "metadata": {},
     "output_type": "execute_result"
    }
   ],
   "source": [
    "# DO NOT CHANGE\n",
    "\n",
    "q19 = pd.DataFrame({\"name\": [\"Mel\", \"John\", \"Tom\", \"Benjamin\", \"Michael\", \"Emily\", \"Tom\"],\n",
    "                    \"hometown\": [\"Peekskill\", \"Newton\", \"Concord\", \"Newton\", \"Newton\", \"London\", \"London\"]})\n",
    "q19"
   ]
  },
  {
   "cell_type": "code",
   "execution_count": 54,
   "metadata": {},
   "outputs": [
    {
     "data": {
      "text/plain": [
       "Ellipsis"
      ]
     },
     "execution_count": 54,
     "metadata": {},
     "output_type": "execute_result"
    }
   ],
   "source": [
    "# YOUR CHANGES HERE\n",
    "\n",
    "..."
   ]
  },
  {
   "cell_type": "markdown",
   "metadata": {},
   "source": [
    "### Problem 20 (automatically graded)\n",
    "\n",
    "Set `p20` to be a data frame with data from the red wine data set indexed on its target where each column has the mean values for that column and target value.\n",
    "`p20` should have a column for each of the input columns of the red wine data set."
   ]
  },
  {
   "cell_type": "code",
   "execution_count": 55,
   "metadata": {},
   "outputs": [
    {
     "data": {
      "text/plain": [
       "Ellipsis"
      ]
     },
     "execution_count": 55,
     "metadata": {},
     "output_type": "execute_result"
    }
   ],
   "source": [
    "# YOUR CHANGES HERE\n",
    "\n",
    "..."
   ]
  }
 ],
 "metadata": {
  "kernelspec": {
   "display_name": "Python 3",
   "language": "python",
   "name": "python3"
  },
  "language_info": {
   "codemirror_mode": {
    "name": "ipython",
    "version": 3
   },
   "file_extension": ".py",
   "mimetype": "text/x-python",
   "name": "python",
   "nbconvert_exporter": "python",
   "pygments_lexer": "ipython3",
   "version": "3.13.0"
  }
 },
 "nbformat": 4,
 "nbformat_minor": 2
}
